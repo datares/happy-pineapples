{
 "cells": [
  {
   "cell_type": "code",
   "execution_count": 1,
   "metadata": {},
   "outputs": [],
   "source": [
    "\n",
    "import numpy as np # linear algebra\n",
    "import pandas as pd # data processing, CSV file I/O (e.g. pd.read_csv)\n",
    "import matplotlib.pyplot as plt # this is used for the plot the graph \n",
    "import os\n",
    "import tarfile\n",
    "import urllib\n",
    "ROOT_DIR = \".\"\n",
    "\n",
    "happiness_path = os.path.join(ROOT_DIR, \"happiness-score/2019.csv\")\n",
    "df = pd.read_csv(happiness_path)"
   ]
  },
  {
   "cell_type": "code",
   "execution_count": 2,
   "metadata": {},
   "outputs": [
    {
     "data": {
      "text/html": [
       "<div>\n",
       "<style scoped>\n",
       "    .dataframe tbody tr th:only-of-type {\n",
       "        vertical-align: middle;\n",
       "    }\n",
       "\n",
       "    .dataframe tbody tr th {\n",
       "        vertical-align: top;\n",
       "    }\n",
       "\n",
       "    .dataframe thead th {\n",
       "        text-align: right;\n",
       "    }\n",
       "</style>\n",
       "<table border=\"1\" class=\"dataframe\">\n",
       "  <thead>\n",
       "    <tr style=\"text-align: right;\">\n",
       "      <th></th>\n",
       "      <th>Overall rank</th>\n",
       "      <th>Country or region</th>\n",
       "      <th>Score</th>\n",
       "      <th>GDP per capita</th>\n",
       "      <th>Social support</th>\n",
       "      <th>Healthy life expectancy</th>\n",
       "      <th>Freedom to make life choices</th>\n",
       "      <th>Generosity</th>\n",
       "      <th>Perceptions of corruption</th>\n",
       "    </tr>\n",
       "  </thead>\n",
       "  <tbody>\n",
       "    <tr>\n",
       "      <th>0</th>\n",
       "      <td>1</td>\n",
       "      <td>Finland</td>\n",
       "      <td>7.769</td>\n",
       "      <td>1.340</td>\n",
       "      <td>1.587</td>\n",
       "      <td>0.986</td>\n",
       "      <td>0.596</td>\n",
       "      <td>0.153</td>\n",
       "      <td>0.393</td>\n",
       "    </tr>\n",
       "    <tr>\n",
       "      <th>1</th>\n",
       "      <td>2</td>\n",
       "      <td>Denmark</td>\n",
       "      <td>7.600</td>\n",
       "      <td>1.383</td>\n",
       "      <td>1.573</td>\n",
       "      <td>0.996</td>\n",
       "      <td>0.592</td>\n",
       "      <td>0.252</td>\n",
       "      <td>0.410</td>\n",
       "    </tr>\n",
       "    <tr>\n",
       "      <th>2</th>\n",
       "      <td>3</td>\n",
       "      <td>Norway</td>\n",
       "      <td>7.554</td>\n",
       "      <td>1.488</td>\n",
       "      <td>1.582</td>\n",
       "      <td>1.028</td>\n",
       "      <td>0.603</td>\n",
       "      <td>0.271</td>\n",
       "      <td>0.341</td>\n",
       "    </tr>\n",
       "    <tr>\n",
       "      <th>3</th>\n",
       "      <td>4</td>\n",
       "      <td>Iceland</td>\n",
       "      <td>7.494</td>\n",
       "      <td>1.380</td>\n",
       "      <td>1.624</td>\n",
       "      <td>1.026</td>\n",
       "      <td>0.591</td>\n",
       "      <td>0.354</td>\n",
       "      <td>0.118</td>\n",
       "    </tr>\n",
       "    <tr>\n",
       "      <th>4</th>\n",
       "      <td>5</td>\n",
       "      <td>Netherlands</td>\n",
       "      <td>7.488</td>\n",
       "      <td>1.396</td>\n",
       "      <td>1.522</td>\n",
       "      <td>0.999</td>\n",
       "      <td>0.557</td>\n",
       "      <td>0.322</td>\n",
       "      <td>0.298</td>\n",
       "    </tr>\n",
       "  </tbody>\n",
       "</table>\n",
       "</div>"
      ],
      "text/plain": [
       "   Overall rank Country or region  Score  GDP per capita  Social support  \\\n",
       "0             1           Finland  7.769           1.340           1.587   \n",
       "1             2           Denmark  7.600           1.383           1.573   \n",
       "2             3            Norway  7.554           1.488           1.582   \n",
       "3             4           Iceland  7.494           1.380           1.624   \n",
       "4             5       Netherlands  7.488           1.396           1.522   \n",
       "\n",
       "   Healthy life expectancy  Freedom to make life choices  Generosity  \\\n",
       "0                    0.986                         0.596       0.153   \n",
       "1                    0.996                         0.592       0.252   \n",
       "2                    1.028                         0.603       0.271   \n",
       "3                    1.026                         0.591       0.354   \n",
       "4                    0.999                         0.557       0.322   \n",
       "\n",
       "   Perceptions of corruption  \n",
       "0                      0.393  \n",
       "1                      0.410  \n",
       "2                      0.341  \n",
       "3                      0.118  \n",
       "4                      0.298  "
      ]
     },
     "execution_count": 2,
     "metadata": {},
     "output_type": "execute_result"
    }
   ],
   "source": [
    "df.head()"
   ]
  },
  {
   "cell_type": "code",
   "execution_count": 131,
   "metadata": {},
   "outputs": [],
   "source": [
    "# https://psychology.wikia.org/wiki/Collectivist_and_individualist_cultures#:~:text=1%20United%20States%202%20Australia%203%20United%20Kingdom,Italy%209%20France%2010%20Belgium%20More%20items...%20\n",
    "individual_str = '''United States\n",
    "Australia\n",
    "United Kingdom\n",
    "Canada\n",
    "Netherlands\n",
    "Hungary\n",
    "New Zealand\n",
    "Italy\n",
    "France\n",
    "Belgium\n",
    "Ireland\n",
    "Switzerland\n",
    "Finland\n",
    "Denmark\n",
    "Norway\n",
    "Iceland\n",
    "Sweden\n",
    "Germany\n",
    "South Africa\n",
    "Luxembourg\n",
    "Czech Republic\n",
    "Austria\n",
    "Israel\n",
    "Slovakia\n",
    "Poland\n",
    "Lithuania\n",
    "Latvia\n",
    "Estonia'''\n",
    "individual_li = individual_str.split('\\n')"
   ]
  },
  {
   "cell_type": "code",
   "execution_count": 132,
   "metadata": {},
   "outputs": [],
   "source": [
    "collective_str='''Afghanistan\n",
    "Azerbaijan\n",
    "Argentina\n",
    "Armenia\n",
    "Belarus\n",
    "Brazil\n",
    "Bangladesh\n",
    "Ethiopia\n",
    "Bulgaria\n",
    "Cyprus\n",
    "Cuba\n",
    "Egypt\n",
    "Guatemala\n",
    "Ghana\n",
    "Dominican Republic\n",
    "El Salvador\n",
    "Georgia\n",
    "Greece\n",
    "Hong Kong\n",
    "Indonesia\n",
    "India\n",
    "Japan\n",
    "Kazakhstan\n",
    "Kyrgyzstan\n",
    "Korea\n",
    "Kenya \n",
    "Lebanon\n",
    "Morocco\n",
    "Malaysia\n",
    "Mexico\n",
    "Myanmar\n",
    "Madagascar\n",
    "Nepal\n",
    "Nigeria\n",
    "Portugal\n",
    "Pakistan\n",
    "Philippines\n",
    "Poland\n",
    "Polynesia\n",
    "Romania\n",
    "Russia\n",
    "Ukraine\n",
    "Saudi Arabia\n",
    "Serbia\n",
    "South Korea\n",
    "Singapore\n",
    "Spain\n",
    "Sri Lanka\n",
    "Turkey\n",
    "Vietnam\n",
    "Uganda\n",
    "Somalia\n",
    "Taiwan\n",
    "Thailand\n",
    "Zambia'''\n",
    "collective_li = collective_str.split('\\n')"
   ]
  },
  {
   "cell_type": "code",
   "execution_count": 133,
   "metadata": {},
   "outputs": [
    {
     "name": "stdout",
     "output_type": "stream",
     "text": [
      "83\n"
     ]
    }
   ],
   "source": [
    "print(len(individual_li)+ len(collective_li))"
   ]
  },
  {
   "cell_type": "code",
   "execution_count": 28,
   "metadata": {},
   "outputs": [
    {
     "data": {
      "text/plain": [
       "array([[1, 'Finland', 7.769],\n",
       "       [2, 'Denmark', 7.6],\n",
       "       [3, 'Norway', 7.553999999999999],\n",
       "       [4, 'Iceland', 7.494],\n",
       "       [5, 'Netherlands', 7.4879999999999995],\n",
       "       [6, 'Switzerland', 7.48],\n",
       "       [7, 'Sweden', 7.343],\n",
       "       [8, 'New Zealand', 7.307],\n",
       "       [9, 'Canada', 7.278],\n",
       "       [10, 'Austria', 7.246],\n",
       "       [11, 'Australia', 7.228],\n",
       "       [12, 'Costa Rica', 7.167000000000001],\n",
       "       [13, 'Israel', 7.138999999999999],\n",
       "       [14, 'Luxembourg', 7.09],\n",
       "       [15, 'United Kingdom', 7.053999999999999],\n",
       "       [16, 'Ireland', 7.021],\n",
       "       [17, 'Germany', 6.985],\n",
       "       [18, 'Belgium', 6.922999999999999],\n",
       "       [19, 'United States', 6.892],\n",
       "       [20, 'Czech Republic', 6.852],\n",
       "       [21, 'United Arab Emirates', 6.825],\n",
       "       [22, 'Malta', 6.726],\n",
       "       [23, 'Mexico', 6.595],\n",
       "       [24, 'France', 6.5920000000000005],\n",
       "       [25, 'Taiwan', 6.446000000000001],\n",
       "       [26, 'Chile', 6.444],\n",
       "       [27, 'Guatemala', 6.436],\n",
       "       [28, 'Saudi Arabia', 6.375],\n",
       "       [29, 'Qatar', 6.374],\n",
       "       [30, 'Spain', 6.354],\n",
       "       [31, 'Panama', 6.321000000000001],\n",
       "       [32, 'Brazil', 6.3],\n",
       "       [33, 'Uruguay', 6.292999999999999],\n",
       "       [34, 'Singapore', 6.2620000000000005],\n",
       "       [35, 'El Salvador', 6.252999999999999],\n",
       "       [36, 'Italy', 6.223],\n",
       "       [37, 'Bahrain', 6.199],\n",
       "       [38, 'Slovakia', 6.1979999999999995],\n",
       "       [39, 'Trinidad & Tobago', 6.192],\n",
       "       [40, 'Poland', 6.182],\n",
       "       [41, 'Uzbekistan', 6.1739999999999995],\n",
       "       [42, 'Lithuania', 6.149],\n",
       "       [43, 'Colombia', 6.125],\n",
       "       [44, 'Slovenia', 6.117999999999999],\n",
       "       [45, 'Nicaragua', 6.105],\n",
       "       [46, 'Kosovo', 6.1],\n",
       "       [47, 'Argentina', 6.086],\n",
       "       [48, 'Romania', 6.07],\n",
       "       [49, 'Cyprus', 6.046],\n",
       "       [50, 'Ecuador', 6.028],\n",
       "       [51, 'Kuwait', 6.021],\n",
       "       [52, 'Thailand', 6.007999999999999],\n",
       "       [53, 'Latvia', 5.94],\n",
       "       [54, 'South Korea', 5.895],\n",
       "       [55, 'Estonia', 5.893],\n",
       "       [56, 'Jamaica', 5.89],\n",
       "       [57, 'Mauritius', 5.888],\n",
       "       [58, 'Japan', 5.886],\n",
       "       [59, 'Honduras', 5.86],\n",
       "       [60, 'Kazakhstan', 5.809],\n",
       "       [61, 'Bolivia', 5.779],\n",
       "       [62, 'Hungary', 5.757999999999999],\n",
       "       [63, 'Paraguay', 5.742999999999999],\n",
       "       [64, 'Northern Cyprus', 5.718],\n",
       "       [65, 'Peru', 5.697],\n",
       "       [66, 'Portugal', 5.693],\n",
       "       [67, 'Pakistan', 5.653],\n",
       "       [68, 'Russia', 5.648],\n",
       "       [69, 'Philippines', 5.631],\n",
       "       [70, 'Serbia', 5.603],\n",
       "       [71, 'Moldova', 5.529],\n",
       "       [72, 'Libya', 5.525],\n",
       "       [73, 'Montenegro', 5.523],\n",
       "       [74, 'Tajikistan', 5.4670000000000005],\n",
       "       [75, 'Croatia', 5.432],\n",
       "       [76, 'Hong Kong', 5.43],\n",
       "       [77, 'Dominican Republic', 5.425],\n",
       "       [78, 'Bosnia and Herzegovina', 5.386],\n",
       "       [79, 'Turkey', 5.372999999999999],\n",
       "       [80, 'Malaysia', 5.3389999999999995],\n",
       "       [81, 'Belarus', 5.3229999999999995],\n",
       "       [82, 'Greece', 5.287000000000001],\n",
       "       [83, 'Mongolia', 5.285],\n",
       "       [84, 'North Macedonia', 5.274],\n",
       "       [85, 'Nigeria', 5.265],\n",
       "       [86, 'Kyrgyzstan', 5.261],\n",
       "       [87, 'Turkmenistan', 5.247000000000001],\n",
       "       [88, 'Algeria', 5.211],\n",
       "       [89, 'Morocco', 5.207999999999999],\n",
       "       [90, 'Azerbaijan', 5.207999999999999],\n",
       "       [91, 'Lebanon', 5.197],\n",
       "       [92, 'Indonesia', 5.192],\n",
       "       [93, 'China', 5.191],\n",
       "       [94, 'Vietnam', 5.175],\n",
       "       [95, 'Bhutan', 5.082],\n",
       "       [96, 'Cameroon', 5.044],\n",
       "       [97, 'Bulgaria', 5.011],\n",
       "       [98, 'Ghana', 4.996],\n",
       "       [99, 'Ivory Coast', 4.944],\n",
       "       [100, 'Nepal', 4.913],\n",
       "       [101, 'Jordan', 4.906000000000001],\n",
       "       [102, 'Benin', 4.883],\n",
       "       [103, 'Congo (Brazzaville)', 4.812],\n",
       "       [104, 'Gabon', 4.7989999999999995],\n",
       "       [105, 'Laos', 4.796],\n",
       "       [106, 'South Africa', 4.7219999999999995],\n",
       "       [107, 'Albania', 4.718999999999999],\n",
       "       [108, 'Venezuela', 4.707],\n",
       "       [109, 'Cambodia', 4.7],\n",
       "       [110, 'Palestinian Territories', 4.696000000000001],\n",
       "       [111, 'Senegal', 4.681],\n",
       "       [112, 'Somalia', 4.668],\n",
       "       [113, 'Namibia', 4.638999999999999],\n",
       "       [114, 'Niger', 4.628],\n",
       "       [115, 'Burkina Faso', 4.587],\n",
       "       [116, 'Armenia', 4.559],\n",
       "       [117, 'Iran', 4.548],\n",
       "       [118, 'Guinea', 4.534],\n",
       "       [119, 'Georgia', 4.519],\n",
       "       [120, 'Gambia', 4.516],\n",
       "       [121, 'Kenya', 4.5089999999999995],\n",
       "       [122, 'Mauritania', 4.49],\n",
       "       [123, 'Mozambique', 4.466],\n",
       "       [124, 'Tunisia', 4.461],\n",
       "       [125, 'Bangladesh', 4.456],\n",
       "       [126, 'Iraq', 4.437],\n",
       "       [127, 'Congo (Kinshasa)', 4.418],\n",
       "       [128, 'Mali', 4.39],\n",
       "       [129, 'Sierra Leone', 4.374],\n",
       "       [130, 'Sri Lanka', 4.3660000000000005],\n",
       "       [131, 'Myanmar', 4.36],\n",
       "       [132, 'Chad', 4.35],\n",
       "       [133, 'Ukraine', 4.332],\n",
       "       [134, 'Ethiopia', 4.2860000000000005],\n",
       "       [135, 'Swaziland', 4.212],\n",
       "       [136, 'Uganda', 4.189],\n",
       "       [137, 'Egypt', 4.166],\n",
       "       [138, 'Zambia', 4.107],\n",
       "       [139, 'Togo', 4.085],\n",
       "       [140, 'India', 4.015],\n",
       "       [141, 'Liberia', 3.975],\n",
       "       [142, 'Comoros', 3.9730000000000003],\n",
       "       [143, 'Madagascar', 3.9330000000000003],\n",
       "       [144, 'Lesotho', 3.802],\n",
       "       [145, 'Burundi', 3.775],\n",
       "       [146, 'Zimbabwe', 3.6630000000000003],\n",
       "       [147, 'Haiti', 3.597],\n",
       "       [148, 'Botswana', 3.488],\n",
       "       [149, 'Syria', 3.4619999999999997],\n",
       "       [150, 'Malawi', 3.41],\n",
       "       [151, 'Yemen', 3.38],\n",
       "       [152, 'Rwanda', 3.3339999999999996],\n",
       "       [153, 'Tanzania', 3.2310000000000003],\n",
       "       [154, 'Afghanistan', 3.2030000000000003],\n",
       "       [155, 'Central African Republic', 3.083],\n",
       "       [156, 'South Sudan', 2.853]], dtype=object)"
      ]
     },
     "execution_count": 28,
     "metadata": {},
     "output_type": "execute_result"
    }
   ],
   "source": [
    "df1 = df[['Overall rank', 'Country or region','Score']]\n",
    "df1 = df1.to_numpy()\n",
    "df1"
   ]
  },
  {
   "cell_type": "code",
   "execution_count": 29,
   "metadata": {},
   "outputs": [
    {
     "data": {
      "text/plain": [
       "'\\ndf_individual = np.empty()\\ndf_collective = np.empty()\\nfor r in range(len(df1)):\\n#     print(df1[r][1])\\n    if df1[r][1] in individual_li: np.append(df_individual, df1[r], axis=0)\\n    elif df1[r][1] in collective_li: df_collective.append(df1[r])\\n#     else: print(df1[r])\\nprint(df_collective)\\n'"
      ]
     },
     "execution_count": 29,
     "metadata": {},
     "output_type": "execute_result"
    }
   ],
   "source": [
    "'''\n",
    "df_individual = np.empty()\n",
    "df_collective = np.empty()\n",
    "for r in range(len(df1)):\n",
    "#     print(df1[r][1])\n",
    "    if df1[r][1] in individual_li: np.append(df_individual, df1[r], axis=0)\n",
    "    elif df1[r][1] in collective_li: df_collective.append(df1[r])\n",
    "#     else: print(df1[r])\n",
    "print(df_collective)\n",
    "'''"
   ]
  },
  {
   "cell_type": "code",
   "execution_count": 30,
   "metadata": {},
   "outputs": [
    {
     "name": "stdout",
     "output_type": "stream",
     "text": [
      "[[1, 7.769], [2, 7.6], [3, 7.553999999999999], [4, 7.494], [5, 7.4879999999999995], [6, 7.48], [7, 7.343], [8, 7.307], [9, 7.278], [10, 7.246], [11, 7.228], [13, 7.138999999999999], [14, 7.09], [15, 7.053999999999999], [16, 7.021], [17, 6.985], [18, 6.922999999999999], [19, 6.892], [20, 6.852], [24, 6.5920000000000005], [30, 6.354], [36, 6.223], [38, 6.1979999999999995], [40, 6.182], [42, 6.149], [53, 5.94], [55, 5.893], [62, 5.757999999999999], [106, 4.7219999999999995]]\n"
     ]
    }
   ],
   "source": [
    "df_individual = []\n",
    "df_collective = []\n",
    "for r in range(len(df1)):\n",
    "#     print(df1[r][1])\n",
    "    li = df1[r].tolist()\n",
    "    del li[1]\n",
    "    if df1[r][1] in individual_li: df_individual.append(li)\n",
    "    elif df1[r][1] in collective_li: df_collective.append(li)\n",
    "#     else: print(df1[r])\n",
    "print(df_individual)"
   ]
  },
  {
   "cell_type": "code",
   "execution_count": 31,
   "metadata": {},
   "outputs": [
    {
     "data": {
      "text/plain": [
       "array([[ 23.   ,   6.595],\n",
       "       [ 25.   ,   6.446],\n",
       "       [ 27.   ,   6.436],\n",
       "       [ 28.   ,   6.375],\n",
       "       [ 32.   ,   6.3  ],\n",
       "       [ 34.   ,   6.262],\n",
       "       [ 35.   ,   6.253],\n",
       "       [ 47.   ,   6.086],\n",
       "       [ 48.   ,   6.07 ],\n",
       "       [ 49.   ,   6.046],\n",
       "       [ 52.   ,   6.008],\n",
       "       [ 54.   ,   5.895],\n",
       "       [ 58.   ,   5.886],\n",
       "       [ 60.   ,   5.809],\n",
       "       [ 66.   ,   5.693],\n",
       "       [ 67.   ,   5.653],\n",
       "       [ 68.   ,   5.648],\n",
       "       [ 69.   ,   5.631],\n",
       "       [ 70.   ,   5.603],\n",
       "       [ 76.   ,   5.43 ],\n",
       "       [ 77.   ,   5.425],\n",
       "       [ 79.   ,   5.373],\n",
       "       [ 80.   ,   5.339],\n",
       "       [ 81.   ,   5.323],\n",
       "       [ 82.   ,   5.287],\n",
       "       [ 85.   ,   5.265],\n",
       "       [ 89.   ,   5.208],\n",
       "       [ 90.   ,   5.208],\n",
       "       [ 91.   ,   5.197],\n",
       "       [ 92.   ,   5.192],\n",
       "       [ 94.   ,   5.175],\n",
       "       [ 97.   ,   5.011],\n",
       "       [ 98.   ,   4.996],\n",
       "       [100.   ,   4.913],\n",
       "       [112.   ,   4.668],\n",
       "       [116.   ,   4.559],\n",
       "       [119.   ,   4.519],\n",
       "       [125.   ,   4.456],\n",
       "       [130.   ,   4.366],\n",
       "       [131.   ,   4.36 ],\n",
       "       [133.   ,   4.332],\n",
       "       [134.   ,   4.286],\n",
       "       [136.   ,   4.189],\n",
       "       [137.   ,   4.166],\n",
       "       [140.   ,   4.015],\n",
       "       [143.   ,   3.933],\n",
       "       [154.   ,   3.203]])"
      ]
     },
     "execution_count": 31,
     "metadata": {},
     "output_type": "execute_result"
    }
   ],
   "source": [
    "# df_individual = pd.DataFrame(df_individual)\n",
    "# df_collective = pd.DataFrame(df_collective)\n",
    "# df_collective.info()\n",
    "\n",
    "df_individual = np.array(df_individual)\n",
    "df_collective = np.array(df_collective)\n",
    "df_collective"
   ]
  },
  {
   "cell_type": "code",
   "execution_count": 32,
   "metadata": {},
   "outputs": [
    {
     "data": {
      "text/plain": [
       "47"
      ]
     },
     "execution_count": 32,
     "metadata": {},
     "output_type": "execute_result"
    }
   ],
   "source": [
    "len(df_collective)"
   ]
  },
  {
   "cell_type": "code",
   "execution_count": 33,
   "metadata": {},
   "outputs": [
    {
     "data": {
      "text/plain": [
       "<matplotlib.legend.Legend at 0x118178fd0>"
      ]
     },
     "execution_count": 33,
     "metadata": {},
     "output_type": "execute_result"
    },
    {
     "data": {
      "image/png": "[encoded data removed]",
      "text/plain": [
       "<Figure size 864x360 with 1 Axes>"
      ]
     },
     "metadata": {
      "needs_background": "light"
     },
     "output_type": "display_data"
    }
   ],
   "source": [
    "# df_individual.plot(kind=\"scatter\", x=\" 0\", y=\" 2\", figsize= (20,5),color=\"red\") \n",
    "plt.figure(figsize=(12, 5))\n",
    "plt.scatter(df_individual[:,0], df_individual[:,1], c=\"brown\", alpha=0.5, label=\"individualist cultures\")\n",
    "plt.scatter(df_collective[:,0], df_collective[:,1], c=\"green\", alpha=0.5, label=\"collectivist cultures\")\n",
    "plt.ylabel('Happiness Score')\n",
    "plt.xlabel('Happiness Rank')\n",
    "plt.legend()"
   ]
  },
  {
   "cell_type": "code",
   "execution_count": 35,
   "metadata": {},
   "outputs": [
    {
     "data": {
      "text/html": [
       "<div>\n",
       "<style scoped>\n",
       "    .dataframe tbody tr th:only-of-type {\n",
       "        vertical-align: middle;\n",
       "    }\n",
       "\n",
       "    .dataframe tbody tr th {\n",
       "        vertical-align: top;\n",
       "    }\n",
       "\n",
       "    .dataframe thead th {\n",
       "        text-align: right;\n",
       "    }\n",
       "</style>\n",
       "<table border=\"1\" class=\"dataframe\">\n",
       "  <thead>\n",
       "    <tr style=\"text-align: right;\">\n",
       "      <th></th>\n",
       "      <th>Overall rank</th>\n",
       "      <th>Country or region</th>\n",
       "      <th>Score</th>\n",
       "      <th>GDP per capita</th>\n",
       "      <th>Social support</th>\n",
       "      <th>Healthy life expectancy</th>\n",
       "      <th>Freedom to make life choices</th>\n",
       "      <th>Generosity</th>\n",
       "      <th>Perceptions of corruption</th>\n",
       "    </tr>\n",
       "  </thead>\n",
       "  <tbody>\n",
       "    <tr>\n",
       "      <th>0</th>\n",
       "      <td>1</td>\n",
       "      <td>Finland</td>\n",
       "      <td>7.769</td>\n",
       "      <td>1.340</td>\n",
       "      <td>1.587</td>\n",
       "      <td>0.986</td>\n",
       "      <td>0.596</td>\n",
       "      <td>0.153</td>\n",
       "      <td>0.393</td>\n",
       "    </tr>\n",
       "    <tr>\n",
       "      <th>1</th>\n",
       "      <td>2</td>\n",
       "      <td>Denmark</td>\n",
       "      <td>7.600</td>\n",
       "      <td>1.383</td>\n",
       "      <td>1.573</td>\n",
       "      <td>0.996</td>\n",
       "      <td>0.592</td>\n",
       "      <td>0.252</td>\n",
       "      <td>0.410</td>\n",
       "    </tr>\n",
       "    <tr>\n",
       "      <th>2</th>\n",
       "      <td>3</td>\n",
       "      <td>Norway</td>\n",
       "      <td>7.554</td>\n",
       "      <td>1.488</td>\n",
       "      <td>1.582</td>\n",
       "      <td>1.028</td>\n",
       "      <td>0.603</td>\n",
       "      <td>0.271</td>\n",
       "      <td>0.341</td>\n",
       "    </tr>\n",
       "    <tr>\n",
       "      <th>3</th>\n",
       "      <td>4</td>\n",
       "      <td>Iceland</td>\n",
       "      <td>7.494</td>\n",
       "      <td>1.380</td>\n",
       "      <td>1.624</td>\n",
       "      <td>1.026</td>\n",
       "      <td>0.591</td>\n",
       "      <td>0.354</td>\n",
       "      <td>0.118</td>\n",
       "    </tr>\n",
       "    <tr>\n",
       "      <th>4</th>\n",
       "      <td>5</td>\n",
       "      <td>Netherlands</td>\n",
       "      <td>7.488</td>\n",
       "      <td>1.396</td>\n",
       "      <td>1.522</td>\n",
       "      <td>0.999</td>\n",
       "      <td>0.557</td>\n",
       "      <td>0.322</td>\n",
       "      <td>0.298</td>\n",
       "    </tr>\n",
       "    <tr>\n",
       "      <th>...</th>\n",
       "      <td>...</td>\n",
       "      <td>...</td>\n",
       "      <td>...</td>\n",
       "      <td>...</td>\n",
       "      <td>...</td>\n",
       "      <td>...</td>\n",
       "      <td>...</td>\n",
       "      <td>...</td>\n",
       "      <td>...</td>\n",
       "    </tr>\n",
       "    <tr>\n",
       "      <th>151</th>\n",
       "      <td>152</td>\n",
       "      <td>Rwanda</td>\n",
       "      <td>3.334</td>\n",
       "      <td>0.359</td>\n",
       "      <td>0.711</td>\n",
       "      <td>0.614</td>\n",
       "      <td>0.555</td>\n",
       "      <td>0.217</td>\n",
       "      <td>0.411</td>\n",
       "    </tr>\n",
       "    <tr>\n",
       "      <th>152</th>\n",
       "      <td>153</td>\n",
       "      <td>Tanzania</td>\n",
       "      <td>3.231</td>\n",
       "      <td>0.476</td>\n",
       "      <td>0.885</td>\n",
       "      <td>0.499</td>\n",
       "      <td>0.417</td>\n",
       "      <td>0.276</td>\n",
       "      <td>0.147</td>\n",
       "    </tr>\n",
       "    <tr>\n",
       "      <th>153</th>\n",
       "      <td>154</td>\n",
       "      <td>Afghanistan</td>\n",
       "      <td>3.203</td>\n",
       "      <td>0.350</td>\n",
       "      <td>0.517</td>\n",
       "      <td>0.361</td>\n",
       "      <td>0.000</td>\n",
       "      <td>0.158</td>\n",
       "      <td>0.025</td>\n",
       "    </tr>\n",
       "    <tr>\n",
       "      <th>154</th>\n",
       "      <td>155</td>\n",
       "      <td>Central African Republic</td>\n",
       "      <td>3.083</td>\n",
       "      <td>0.026</td>\n",
       "      <td>0.000</td>\n",
       "      <td>0.105</td>\n",
       "      <td>0.225</td>\n",
       "      <td>0.235</td>\n",
       "      <td>0.035</td>\n",
       "    </tr>\n",
       "    <tr>\n",
       "      <th>155</th>\n",
       "      <td>156</td>\n",
       "      <td>South Sudan</td>\n",
       "      <td>2.853</td>\n",
       "      <td>0.306</td>\n",
       "      <td>0.575</td>\n",
       "      <td>0.295</td>\n",
       "      <td>0.010</td>\n",
       "      <td>0.202</td>\n",
       "      <td>0.091</td>\n",
       "    </tr>\n",
       "  </tbody>\n",
       "</table>\n",
       "<p>156 rows × 9 columns</p>\n",
       "</div>"
      ],
      "text/plain": [
       "     Overall rank         Country or region  Score  GDP per capita  \\\n",
       "0               1                   Finland  7.769           1.340   \n",
       "1               2                   Denmark  7.600           1.383   \n",
       "2               3                    Norway  7.554           1.488   \n",
       "3               4                   Iceland  7.494           1.380   \n",
       "4               5               Netherlands  7.488           1.396   \n",
       "..            ...                       ...    ...             ...   \n",
       "151           152                    Rwanda  3.334           0.359   \n",
       "152           153                  Tanzania  3.231           0.476   \n",
       "153           154               Afghanistan  3.203           0.350   \n",
       "154           155  Central African Republic  3.083           0.026   \n",
       "155           156               South Sudan  2.853           0.306   \n",
       "\n",
       "     Social support  Healthy life expectancy  Freedom to make life choices  \\\n",
       "0             1.587                    0.986                         0.596   \n",
       "1             1.573                    0.996                         0.592   \n",
       "2             1.582                    1.028                         0.603   \n",
       "3             1.624                    1.026                         0.591   \n",
       "4             1.522                    0.999                         0.557   \n",
       "..              ...                      ...                           ...   \n",
       "151           0.711                    0.614                         0.555   \n",
       "152           0.885                    0.499                         0.417   \n",
       "153           0.517                    0.361                         0.000   \n",
       "154           0.000                    0.105                         0.225   \n",
       "155           0.575                    0.295                         0.010   \n",
       "\n",
       "     Generosity  Perceptions of corruption  \n",
       "0         0.153                      0.393  \n",
       "1         0.252                      0.410  \n",
       "2         0.271                      0.341  \n",
       "3         0.354                      0.118  \n",
       "4         0.322                      0.298  \n",
       "..          ...                        ...  \n",
       "151       0.217                      0.411  \n",
       "152       0.276                      0.147  \n",
       "153       0.158                      0.025  \n",
       "154       0.235                      0.035  \n",
       "155       0.202                      0.091  \n",
       "\n",
       "[156 rows x 9 columns]"
      ]
     },
     "execution_count": 35,
     "metadata": {},
     "output_type": "execute_result"
    }
   ],
   "source": [
    "df"
   ]
  },
  {
   "cell_type": "code",
   "execution_count": 123,
   "metadata": {},
   "outputs": [],
   "source": [
    "df2 = df[['Country or region','Score','Generosity','Perceptions of corruption']]\n",
    "df2 = df2.to_numpy()"
   ]
  },
  {
   "cell_type": "code",
   "execution_count": 124,
   "metadata": {},
   "outputs": [
    {
     "name": "stdout",
     "output_type": "stream",
     "text": [
      "[[7.769, 0.153, 0.39299999999999996], [7.6, 0.252, 0.41], [7.553999999999999, 0.271, 0.341], [7.494, 0.354, 0.11800000000000001], [7.4879999999999995, 0.322, 0.298], [7.48, 0.263, 0.34299999999999997], [7.343, 0.267, 0.373], [7.307, 0.33, 0.38], [7.278, 0.285, 0.308], [7.246, 0.244, 0.226], [7.228, 0.332, 0.29], [7.138999999999999, 0.261, 0.08199999999999999], [7.09, 0.19399999999999998, 0.316], [7.053999999999999, 0.348, 0.278], [7.021, 0.298, 0.31], [6.985, 0.261, 0.265], [6.922999999999999, 0.16, 0.21], [6.892, 0.28, 0.128], [6.852, 0.046, 0.036000000000000004], [6.5920000000000005, 0.111, 0.183], [6.223, 0.158, 0.03], [6.1979999999999995, 0.121, 0.013999999999999999], [6.182, 0.11699999999999999, 0.05], [6.149, 0.043, 0.042], [5.94, 0.075, 0.064], [5.893, 0.10300000000000001, 0.161], [5.757999999999999, 0.081, 0.02], [4.7219999999999995, 0.13, 0.055]]\n"
     ]
    }
   ],
   "source": [
    "df_individual2 = []\n",
    "df_collective2 = []\n",
    "for r in range(len(df2)):\n",
    "#     print(df1[r][1])\n",
    "    li = df2[r].tolist()\n",
    "    del li[0]\n",
    "    if df2[r][0] in individual_li: df_individual2.append(li)\n",
    "    elif df2[r][0] in collective_li: df_collective2.append(li)\n",
    "#     else: print(df1[r])\n",
    "print(df_individual2)"
   ]
  },
  {
   "cell_type": "code",
   "execution_count": 125,
   "metadata": {},
   "outputs": [],
   "source": [
    "df_individual2 = np.array(df_individual2)\n",
    "df_collective2 = np.array(df_collective2)"
   ]
  },
  {
   "cell_type": "code",
   "execution_count": 129,
   "metadata": {},
   "outputs": [
    {
     "data": {
      "text/plain": [
       "<matplotlib.legend.Legend at 0x1a1dfa4f10>"
      ]
     },
     "execution_count": 129,
     "metadata": {},
     "output_type": "execute_result"
    },
    {
     "data": {
      "image/png": "[encoded data removed]",
      "text/plain": [
       "<Figure size 504x360 with 1 Axes>"
      ]
     },
     "metadata": {
      "needs_background": "light"
     },
     "output_type": "display_data"
    }
   ],
   "source": [
    "plt.figure(figsize=(7, 5))\n",
    "plt.scatter(df_individual2[:,0], df_individual2[:,1], c=\"green\", alpha=0.5, label=\"individualist cultures\")\n",
    "plt.scatter(df_collective2[:,0], df_collective2[:,1], c=\"brown\", alpha=0.5, label=\"collectivist cultures\")\n",
    "plt.xlabel('Happiness Score')\n",
    "plt.ylabel('Generosity')\n",
    "plt.legend(loc='upper left')"
   ]
  },
  {
   "cell_type": "code",
   "execution_count": 130,
   "metadata": {},
   "outputs": [
    {
     "data": {
      "text/plain": [
       "<matplotlib.legend.Legend at 0x1a1e094fd0>"
      ]
     },
     "execution_count": 130,
     "metadata": {},
     "output_type": "execute_result"
    },
    {
     "data": {
      "image/png": "[encoded data removed]",
      "text/plain": [
       "<Figure size 504x360 with 1 Axes>"
      ]
     },
     "metadata": {
      "needs_background": "light"
     },
     "output_type": "display_data"
    }
   ],
   "source": [
    "plt.figure(figsize=(7, 5))\n",
    "plt.scatter(df_individual2[:,0], df_individual2[:,2], c=\"green\", alpha=0.5, label=\"individualist cultures\")\n",
    "plt.scatter(df_collective2[:,0], df_collective2[:,2], c=\"brown\", alpha=0.5, label=\"collectivist cultures\")\n",
    "plt.xlabel('Happiness Score')\n",
    "plt.ylabel('Perceptions of corruption')\n",
    "plt.legend(loc='upper left')"
   ]
  },
  {
   "cell_type": "code",
   "execution_count": 113,
   "metadata": {},
   "outputs": [
    {
     "data": {
      "text/plain": [
       "[Text(0, 0.5, 'Density'), Text(0.5, 0, 'Happiness Score')]"
      ]
     },
     "execution_count": 113,
     "metadata": {},
     "output_type": "execute_result"
    },
    {
     "data": {
      "image/png": "[encoded data removed]",
      "text/plain": [
       "<Figure size 576x360 with 1 Axes>"
      ]
     },
     "metadata": {
      "needs_background": "light"
     },
     "output_type": "display_data"
    }
   ],
   "source": [
    "# library and dataset\n",
    "import seaborn as sns\n",
    "from matplotlib import pyplot\n",
    " \n",
    "# plot of 2 variables\n",
    "a4_dims = (8, 5)\n",
    "fig, ax = pyplot.subplots(figsize=a4_dims)\n",
    "p1=sns.kdeplot(df_individual2[:,0], shade=True, color=\"green\", label=\"individualist cultures\")\n",
    "p1=sns.kdeplot(df_collective2[:,0], shade=True, color=\"brown\", label=\"collectivist cultures\")\n",
    "p1.set(xlabel='Happiness Score', ylabel='Density')\n",
    "# sns.plt.show()\n"
   ]
  },
  {
   "cell_type": "code",
   "execution_count": 11,
   "metadata": {},
   "outputs": [],
   "source": [
    "# 2 density graph, on top of each other\n",
    "# gradient"
   ]
  },
  {
   "cell_type": "code",
   "execution_count": 12,
   "metadata": {},
   "outputs": [
    {
     "name": "stdout",
     "output_type": "stream",
     "text": [
      "[['United States', 91], ['Australia', 90], ['United Kingdom', 89], ['Netherlands', 80], ['New Zealand', 79], ['Italy', 76], ['Belgium', 75], ['Denmark', 74], ['France', 71], ['Sweden', 71]]\n"
     ]
    }
   ],
   "source": [
    "# http://clearlycultural.com/geert-hofstede-cultural-dimensions/individualism/#:~:text=Individualism%20%20%20Country%20%20%20PDI%20,%20%2053%20%2062%20more%20rows%20\n",
    "# https://worldpopulationreview.com/country-rankings/collectivist-countries\n",
    "index_str = '''United States\t40\t91\t62\t46\t29\n",
    "Australia\t36\t90\t61\t51\t31\n",
    "United Kingdom\t35\t89\t66\t35\t25\n",
    "Netherlands\t38\t80\t14\t53\t44\n",
    "New Zealand\t22\t79\t58\t49\t30\n",
    "Italy\t50\t76\t70\t75\t\n",
    "Belgium\t65\t75\t54\t94\t\n",
    "Denmark\t18\t74\t16\t23\t\n",
    "France\t68\t71\t43\t86\t\n",
    "Sweden\t31\t71\t5\t29\t33\n",
    "Ireland\t28\t70\t68\t35\t\n",
    "Norway\t31\t69\t8\t50\t20\n",
    "Switzerland\t34\t68\t70\t58\t\n",
    "Germany\t35\t67\t66\t65\t31\n",
    "South Africa\t49\t65\t63\t49\t\n",
    "Finland\t33\t63\t26\t59\t\n",
    "Poland\t68\t60\t64\t93\t\n",
    "Czech Republic\t57\t58\t57\t74\t\n",
    "Austria\t11\t55\t79\t70\t\n",
    "Hungary\t46\t55\t88\t82\t\n",
    "Israel\t13\t54\t47\t81\t\n",
    "Spain\t57\t51\t42\t86\t\n",
    "India\t77\t48\t56\t40\t61\n",
    "Argentina\t49\t46\t56\t86\t\n",
    "Japan\t54\t46\t95\t92\t80\n",
    "Iran\t58\t41\t43\t59\t\n",
    "Jamaica\t45\t39\t68\t13\t\n",
    "Brazil\t69\t38\t49\t76\t65\n",
    "Egypt\t80\t38\t52\t68\t\n",
    "Iraq\t80\t38\t52\t68\t\n",
    "Kuwait\t80\t38\t52\t68\t\n",
    "Lebanon\t80\t38\t52\t68\t\n",
    "Libya\t80\t38\t52\t68\t\n",
    "Saudi Arabia\t80\t38\t52\t68\t\n",
    "United Arab Emirates\t80\t38\t52\t68\t\n",
    "Turkey\t66\t37\t45\t85\t\n",
    "Uruguay\t61\t36\t38\t100\t\n",
    "Greece\t60\t35\t57\t112\t\n",
    "Philippines\t94\t32\t64\t44\t19\n",
    "Mexico\t81\t30\t69\t82\t\n",
    "Ethiopia\t64\t27\t41\t52\t25\n",
    "Kenya\t64\t27\t41\t52\t25\n",
    "Portugal\t63\t27\t31\t104\t\n",
    "Tanzania\t64\t27\t41\t52\t25\n",
    "Zambia\t64\t27\t41\t52\t25\n",
    "Malaysia\t104\t26\t50\t36\t\n",
    "Hong Kong\t68\t25\t57\t29\t96\n",
    "Chile\t63\t23\t28\t86\t\n",
    "China\t80\t20\t66\t40\t118\n",
    "Ghana\t77\t20\t46\t54\t16\n",
    "Nigeria\t77\t20\t46\t54\t16\n",
    "Sierra Leone\t77\t20\t46\t54\t16\n",
    "Singapore\t74\t20\t48\t8\t48\n",
    "Thailand\t64\t20\t34\t64\t56\n",
    "El Salvador\t66\t19\t40\t94\t\n",
    "South Korea\t60\t18\t39\t85\t75\n",
    "Taiwan\t58\t17\t45\t69\t87\n",
    "Peru\t64\t16\t42\t87\t\n",
    "Costa Rica\t35\t15\t21\t86\t\n",
    "Indonesia\t78\t14\t46\t48\t\n",
    "Pakistan\t55\t14\t50\t70\t\n",
    "Colombia\t67\t13\t64\t80\t\n",
    "Venezuela\t81\t12\t73\t76\t\n",
    "Panama\t95\t11\t44\t86\t\n",
    "Ecuador\t78\t8\t63\t67\t\n",
    "Guatemala\t95\t6\t37\t101'''\n",
    "str_li1 = index_str.split('\\n')\n",
    "index_li = []\n",
    "for s in str_li1:\n",
    "    row = s.split('\\t')\n",
    "    index_li.append([row[0], int(row[2])])\n",
    "print(index_li[:10])\n",
    "# first column is the country name, second column is the individuality index"
   ]
  },
  {
   "cell_type": "code",
   "execution_count": 13,
   "metadata": {},
   "outputs": [
    {
     "data": {
      "text/plain": [
       "[['United States', 91, 6.892],\n",
       " ['Australia', 90, 7.228],\n",
       " ['United Kingdom', 89, 7.053999999999999],\n",
       " ['Netherlands', 80, 7.4879999999999995],\n",
       " ['New Zealand', 79, 7.307],\n",
       " ['Italy', 76, 6.223],\n",
       " ['Belgium', 75, 6.922999999999999],\n",
       " ['Denmark', 74, 7.6],\n",
       " ['France', 71, 6.5920000000000005],\n",
       " ['Sweden', 71, 7.343],\n",
       " ['Ireland', 70, 7.021],\n",
       " ['Norway', 69, 7.553999999999999],\n",
       " ['Switzerland', 68, 7.48],\n",
       " ['Germany', 67, 6.985],\n",
       " ['South Africa', 65, 4.7219999999999995],\n",
       " ['Finland', 63, 7.769],\n",
       " ['Poland', 60, 6.182],\n",
       " ['Czech Republic', 58, 6.852],\n",
       " ['Austria', 55, 7.246],\n",
       " ['Hungary', 55, 5.757999999999999],\n",
       " ['Israel', 54, 7.138999999999999],\n",
       " ['Spain', 51, 6.354],\n",
       " ['India', 48, 4.015],\n",
       " ['Argentina', 46, 6.086],\n",
       " ['Japan', 46, 5.886],\n",
       " ['Iran', 41, 4.548],\n",
       " ['Jamaica', 39, 5.89],\n",
       " ['Brazil', 38, 6.3],\n",
       " ['Egypt', 38, 4.166],\n",
       " ['Iraq', 38, 4.437],\n",
       " ['Kuwait', 38, 6.021],\n",
       " ['Lebanon', 38, 5.197],\n",
       " ['Libya', 38, 5.525],\n",
       " ['Saudi Arabia', 38, 6.375],\n",
       " ['United Arab Emirates', 38, 6.825],\n",
       " ['Turkey', 37, 5.372999999999999],\n",
       " ['Uruguay', 36, 6.292999999999999],\n",
       " ['Greece', 35, 5.287000000000001],\n",
       " ['Philippines', 32, 5.631],\n",
       " ['Mexico', 30, 6.595],\n",
       " ['Ethiopia', 27, 4.2860000000000005],\n",
       " ['Kenya', 27, 4.5089999999999995],\n",
       " ['Portugal', 27, 5.693],\n",
       " ['Tanzania', 27, 3.2310000000000003],\n",
       " ['Zambia', 27, 4.107],\n",
       " ['Malaysia', 26, 5.3389999999999995],\n",
       " ['Hong Kong', 25, 5.43],\n",
       " ['Chile', 23, 6.444],\n",
       " ['China', 20, 5.191],\n",
       " ['Ghana', 20, 4.996],\n",
       " ['Nigeria', 20, 5.265],\n",
       " ['Sierra Leone', 20, 4.374],\n",
       " ['Singapore', 20, 6.2620000000000005],\n",
       " ['Thailand', 20, 6.007999999999999],\n",
       " ['El Salvador', 19, 6.252999999999999],\n",
       " ['South Korea', 18, 5.895],\n",
       " ['Taiwan', 17, 6.446000000000001],\n",
       " ['Peru', 16, 5.697],\n",
       " ['Costa Rica', 15, 7.167000000000001],\n",
       " ['Indonesia', 14, 5.192],\n",
       " ['Pakistan', 14, 5.653],\n",
       " ['Colombia', 13, 6.125],\n",
       " ['Venezuela', 12, 4.707],\n",
       " ['Panama', 11, 6.321000000000001],\n",
       " ['Ecuador', 8, 6.028],\n",
       " ['Guatemala', 6, 6.436]]"
      ]
     },
     "execution_count": 13,
     "metadata": {},
     "output_type": "execute_result"
    }
   ],
   "source": [
    "for i in range(len(df1)):\n",
    "    li = df1[i].tolist()\n",
    "    name, score = li[1], li[2]\n",
    "    for j in range(len(index_li)):\n",
    "        # check the name in the countries list matches the name in countries name\n",
    "        if name == index_li[j][0]: index_li[j].append(score)\n",
    "\n",
    "index_li"
   ]
  },
  {
   "cell_type": "code",
   "execution_count": 19,
   "metadata": {},
   "outputs": [
    {
     "data": {
      "text/plain": [
       "66"
      ]
     },
     "execution_count": 19,
     "metadata": {},
     "output_type": "execute_result"
    }
   ],
   "source": [
    "len(index_li)"
   ]
  },
  {
   "cell_type": "code",
   "execution_count": 14,
   "metadata": {},
   "outputs": [
    {
     "data": {
      "text/plain": [
       "array([[91.   ,  6.892],\n",
       "       [90.   ,  7.228],\n",
       "       [89.   ,  7.054],\n",
       "       [80.   ,  7.488],\n",
       "       [79.   ,  7.307],\n",
       "       [76.   ,  6.223],\n",
       "       [75.   ,  6.923],\n",
       "       [74.   ,  7.6  ],\n",
       "       [71.   ,  6.592],\n",
       "       [71.   ,  7.343],\n",
       "       [70.   ,  7.021],\n",
       "       [69.   ,  7.554],\n",
       "       [68.   ,  7.48 ],\n",
       "       [67.   ,  6.985],\n",
       "       [65.   ,  4.722],\n",
       "       [63.   ,  7.769],\n",
       "       [60.   ,  6.182],\n",
       "       [58.   ,  6.852],\n",
       "       [55.   ,  7.246],\n",
       "       [55.   ,  5.758],\n",
       "       [54.   ,  7.139],\n",
       "       [51.   ,  6.354],\n",
       "       [48.   ,  4.015],\n",
       "       [46.   ,  6.086],\n",
       "       [46.   ,  5.886],\n",
       "       [41.   ,  4.548],\n",
       "       [39.   ,  5.89 ],\n",
       "       [38.   ,  6.3  ],\n",
       "       [38.   ,  4.166],\n",
       "       [38.   ,  4.437],\n",
       "       [38.   ,  6.021],\n",
       "       [38.   ,  5.197],\n",
       "       [38.   ,  5.525],\n",
       "       [38.   ,  6.375],\n",
       "       [38.   ,  6.825],\n",
       "       [37.   ,  5.373],\n",
       "       [36.   ,  6.293],\n",
       "       [35.   ,  5.287],\n",
       "       [32.   ,  5.631],\n",
       "       [30.   ,  6.595],\n",
       "       [27.   ,  4.286],\n",
       "       [27.   ,  4.509],\n",
       "       [27.   ,  5.693],\n",
       "       [27.   ,  3.231],\n",
       "       [27.   ,  4.107],\n",
       "       [26.   ,  5.339],\n",
       "       [25.   ,  5.43 ],\n",
       "       [23.   ,  6.444],\n",
       "       [20.   ,  5.191],\n",
       "       [20.   ,  4.996],\n",
       "       [20.   ,  5.265],\n",
       "       [20.   ,  4.374],\n",
       "       [20.   ,  6.262],\n",
       "       [20.   ,  6.008],\n",
       "       [19.   ,  6.253],\n",
       "       [18.   ,  5.895],\n",
       "       [17.   ,  6.446],\n",
       "       [16.   ,  5.697],\n",
       "       [15.   ,  7.167],\n",
       "       [14.   ,  5.192],\n",
       "       [14.   ,  5.653],\n",
       "       [13.   ,  6.125],\n",
       "       [12.   ,  4.707],\n",
       "       [11.   ,  6.321],\n",
       "       [ 8.   ,  6.028],\n",
       "       [ 6.   ,  6.436]])"
      ]
     },
     "execution_count": 14,
     "metadata": {},
     "output_type": "execute_result"
    }
   ],
   "source": [
    "for i in range(len(index_li)):\n",
    "    del index_li[i][0]\n",
    "    \n",
    "index_li = np.array(index_li)\n",
    "index_li"
   ]
  },
  {
   "cell_type": "code",
   "execution_count": 15,
   "metadata": {},
   "outputs": [],
   "source": [
    "x_axis, y_axis = index_li[:,0], index_li[:,1]"
   ]
  },
  {
   "cell_type": "code",
   "execution_count": 16,
   "metadata": {},
   "outputs": [
    {
     "name": "stdout",
     "output_type": "stream",
     "text": [
      "0.023444203621572842 5.023016647881613\n"
     ]
    }
   ],
   "source": [
    "slope, offset  = np.polyfit(x_axis, y_axis, 1)\n",
    "y_axis2 = slope * x_axis + offset\n",
    "print(slope, offset)"
   ]
  },
  {
   "cell_type": "code",
   "execution_count": 17,
   "metadata": {},
   "outputs": [
    {
     "data": {
      "text/plain": [
       "<matplotlib.legend.Legend at 0x118a87c90>"
      ]
     },
     "execution_count": 17,
     "metadata": {},
     "output_type": "execute_result"
    },
    {
     "data": {
      "image/png": "[encoded data removed]",
      "text/plain": [
       "<Figure size 504x324 with 1 Axes>"
      ]
     },
     "metadata": {
      "needs_background": "light"
     },
     "output_type": "display_data"
    }
   ],
   "source": [
    "plt.figure(figsize=(7, 4.5))\n",
    "plt.scatter(x_axis, y_axis, c=\"purple\", alpha=0.6)\n",
    "plt.plot(x_axis, y_axis2, color = 'orange', label = 'Line of Best Fit')\n",
    "plt.ylabel('Happiness Score')\n",
    "plt.xlabel('Individuality Index')\n",
    "plt.title(\"Impact on happiness from individuality index\")\n",
    "plt.legend()"
   ]
  },
  {
   "cell_type": "code",
   "execution_count": 18,
   "metadata": {},
   "outputs": [],
   "source": [
    "# "
   ]
  }
 ],
 "metadata": {
  "kernelspec": {
   "display_name": "Python 3",
   "language": "python",
   "name": "python3"
  },
  "language_info": {
   "codemirror_mode": {
    "name": "ipython",
    "version": 3
   },
   "file_extension": ".py",
   "mimetype": "text/x-python",
   "name": "python",
   "nbconvert_exporter": "python",
   "pygments_lexer": "ipython3",
   "version": "3.7.6"
  }
 },
 "nbformat": 4,
 "nbformat_minor": 4
}
